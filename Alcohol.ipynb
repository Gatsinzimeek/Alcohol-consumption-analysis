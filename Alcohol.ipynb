{
 "cells": [
  {
   "cell_type": "markdown",
   "id": "2d38a26f",
   "metadata": {},
   "source": [
    "# Uber Fares Dataset - Data Preparation with Python"
   ]
  },
  {
   "cell_type": "code",
   "execution_count": 8,
   "id": "8d96a1f5",
   "metadata": {},
   "outputs": [],
   "source": [
    "import pandas as pd\n",
    "import numpy as np\n",
    "import matplotlib.pyplot as plt\n",
    "import seaborn as sns\n"
   ]
  },
  {
   "cell_type": "markdown",
   "id": "5ff4f79a",
   "metadata": {},
   "source": [
    "## Load the Dataset"
   ]
  },
  {
   "cell_type": "code",
   "execution_count": 9,
   "id": "84c49bcc",
   "metadata": {},
   "outputs": [
    {
     "data": {
      "text/html": [
       "<div>\n",
       "<style scoped>\n",
       "    .dataframe tbody tr th:only-of-type {\n",
       "        vertical-align: middle;\n",
       "    }\n",
       "\n",
       "    .dataframe tbody tr th {\n",
       "        vertical-align: top;\n",
       "    }\n",
       "\n",
       "    .dataframe thead th {\n",
       "        text-align: right;\n",
       "    }\n",
       "</style>\n",
       "<table border=\"1\" class=\"dataframe\">\n",
       "  <thead>\n",
       "    <tr style=\"text-align: right;\">\n",
       "      <th></th>\n",
       "      <th>IND_ID</th>\n",
       "      <th>IND_CODE</th>\n",
       "      <th>IND_UUID</th>\n",
       "      <th>IND_PER_CODE</th>\n",
       "      <th>DIM_TIME</th>\n",
       "      <th>DIM_TIME_TYPE</th>\n",
       "      <th>DIM_GEO_CODE_M49</th>\n",
       "      <th>DIM_GEO_CODE_TYPE</th>\n",
       "      <th>DIM_PUBLISH_STATE_CODE</th>\n",
       "      <th>IND_NAME</th>\n",
       "      <th>GEO_NAME_SHORT</th>\n",
       "      <th>DIM_SEX</th>\n",
       "      <th>RATE_PER_CAPITA_N</th>\n",
       "      <th>RATE_PER_CAPITA_NL</th>\n",
       "      <th>RATE_PER_CAPITA_NU</th>\n",
       "    </tr>\n",
       "  </thead>\n",
       "  <tbody>\n",
       "    <tr>\n",
       "      <th>0</th>\n",
       "      <td>EE6F72ASA_0000001688</td>\n",
       "      <td>SA_0000001688</td>\n",
       "      <td>EE6F72A</td>\n",
       "      <td>SA_0000001688</td>\n",
       "      <td>2003</td>\n",
       "      <td>YEAR</td>\n",
       "      <td>192</td>\n",
       "      <td>COUNTRY</td>\n",
       "      <td>PUBLISHED</td>\n",
       "      <td>Alcohol consumption (age 15+)</td>\n",
       "      <td>Cuba</td>\n",
       "      <td>TOTAL</td>\n",
       "      <td>5.885221</td>\n",
       "      <td>4.503071</td>\n",
       "      <td>7.410578</td>\n",
       "    </tr>\n",
       "    <tr>\n",
       "      <th>1</th>\n",
       "      <td>EE6F72ASA_0000001688</td>\n",
       "      <td>SA_0000001688</td>\n",
       "      <td>EE6F72A</td>\n",
       "      <td>SA_0000001688</td>\n",
       "      <td>2003</td>\n",
       "      <td>YEAR</td>\n",
       "      <td>196</td>\n",
       "      <td>COUNTRY</td>\n",
       "      <td>PUBLISHED</td>\n",
       "      <td>Alcohol consumption (age 15+)</td>\n",
       "      <td>Cyprus</td>\n",
       "      <td>TOTAL</td>\n",
       "      <td>7.142592</td>\n",
       "      <td>5.563809</td>\n",
       "      <td>8.754144</td>\n",
       "    </tr>\n",
       "    <tr>\n",
       "      <th>2</th>\n",
       "      <td>EE6F72ASA_0000001688</td>\n",
       "      <td>SA_0000001688</td>\n",
       "      <td>EE6F72A</td>\n",
       "      <td>SA_0000001688</td>\n",
       "      <td>2003</td>\n",
       "      <td>YEAR</td>\n",
       "      <td>199</td>\n",
       "      <td>CLASSIFICATION</td>\n",
       "      <td>PUBLISHED</td>\n",
       "      <td>Alcohol consumption (age 15+)</td>\n",
       "      <td>Least developed countries</td>\n",
       "      <td>TOTAL</td>\n",
       "      <td>2.029877</td>\n",
       "      <td>1.895321</td>\n",
       "      <td>2.216005</td>\n",
       "    </tr>\n",
       "    <tr>\n",
       "      <th>3</th>\n",
       "      <td>EE6F72ASA_0000001688</td>\n",
       "      <td>SA_0000001688</td>\n",
       "      <td>EE6F72A</td>\n",
       "      <td>SA_0000001688</td>\n",
       "      <td>2003</td>\n",
       "      <td>YEAR</td>\n",
       "      <td>202</td>\n",
       "      <td>REGION</td>\n",
       "      <td>PUBLISHED</td>\n",
       "      <td>Alcohol consumption (age 15+)</td>\n",
       "      <td>Sub-Saharan Africa</td>\n",
       "      <td>TOTAL</td>\n",
       "      <td>3.860405</td>\n",
       "      <td>3.588745</td>\n",
       "      <td>4.177033</td>\n",
       "    </tr>\n",
       "    <tr>\n",
       "      <th>4</th>\n",
       "      <td>EE6F72ASA_0000001688</td>\n",
       "      <td>SA_0000001688</td>\n",
       "      <td>EE6F72A</td>\n",
       "      <td>SA_0000001688</td>\n",
       "      <td>2003</td>\n",
       "      <td>YEAR</td>\n",
       "      <td>203</td>\n",
       "      <td>COUNTRY</td>\n",
       "      <td>PUBLISHED</td>\n",
       "      <td>Alcohol consumption (age 15+)</td>\n",
       "      <td>Czechia</td>\n",
       "      <td>TOTAL</td>\n",
       "      <td>14.557763</td>\n",
       "      <td>12.680295</td>\n",
       "      <td>16.571871</td>\n",
       "    </tr>\n",
       "  </tbody>\n",
       "</table>\n",
       "</div>"
      ],
      "text/plain": [
       "                 IND_ID       IND_CODE IND_UUID   IND_PER_CODE  DIM_TIME  \\\n",
       "0  EE6F72ASA_0000001688  SA_0000001688  EE6F72A  SA_0000001688      2003   \n",
       "1  EE6F72ASA_0000001688  SA_0000001688  EE6F72A  SA_0000001688      2003   \n",
       "2  EE6F72ASA_0000001688  SA_0000001688  EE6F72A  SA_0000001688      2003   \n",
       "3  EE6F72ASA_0000001688  SA_0000001688  EE6F72A  SA_0000001688      2003   \n",
       "4  EE6F72ASA_0000001688  SA_0000001688  EE6F72A  SA_0000001688      2003   \n",
       "\n",
       "  DIM_TIME_TYPE  DIM_GEO_CODE_M49 DIM_GEO_CODE_TYPE DIM_PUBLISH_STATE_CODE  \\\n",
       "0          YEAR               192           COUNTRY              PUBLISHED   \n",
       "1          YEAR               196           COUNTRY              PUBLISHED   \n",
       "2          YEAR               199    CLASSIFICATION              PUBLISHED   \n",
       "3          YEAR               202            REGION              PUBLISHED   \n",
       "4          YEAR               203           COUNTRY              PUBLISHED   \n",
       "\n",
       "                        IND_NAME             GEO_NAME_SHORT DIM_SEX  \\\n",
       "0  Alcohol consumption (age 15+)                       Cuba   TOTAL   \n",
       "1  Alcohol consumption (age 15+)                     Cyprus   TOTAL   \n",
       "2  Alcohol consumption (age 15+)  Least developed countries   TOTAL   \n",
       "3  Alcohol consumption (age 15+)         Sub-Saharan Africa   TOTAL   \n",
       "4  Alcohol consumption (age 15+)                    Czechia   TOTAL   \n",
       "\n",
       "   RATE_PER_CAPITA_N  RATE_PER_CAPITA_NL  RATE_PER_CAPITA_NU  \n",
       "0           5.885221            4.503071            7.410578  \n",
       "1           7.142592            5.563809            8.754144  \n",
       "2           2.029877            1.895321            2.216005  \n",
       "3           3.860405            3.588745            4.177033  \n",
       "4          14.557763           12.680295           16.571871  "
      ]
     },
     "execution_count": 9,
     "metadata": {},
     "output_type": "execute_result"
    }
   ],
   "source": [
    "# Load the cleaned dataset\n",
    "df = pd.read_csv(\"alcohol.csv\")\n",
    "\n",
    "# Preview the data\n",
    "df.head()\n"
   ]
  },
  {
   "cell_type": "markdown",
   "id": "c26b9439",
   "metadata": {},
   "source": [
    "## Explore the Dataset"
   ]
  },
  {
   "cell_type": "code",
   "execution_count": 14,
   "id": "f9a86f1e",
   "metadata": {},
   "outputs": [
    {
     "name": "stdout",
     "output_type": "stream",
     "text": [
      "Shape of the dataset: (5405, 15)\n",
      "\n",
      "Data Types and Missing Values:\n",
      "<class 'pandas.core.frame.DataFrame'>\n",
      "RangeIndex: 5405 entries, 0 to 5404\n",
      "Data columns (total 15 columns):\n",
      " #   Column                  Non-Null Count  Dtype  \n",
      "---  ------                  --------------  -----  \n",
      " 0   IND_ID                  5405 non-null   object \n",
      " 1   IND_CODE                5405 non-null   object \n",
      " 2   IND_UUID                5405 non-null   object \n",
      " 3   IND_PER_CODE            5405 non-null   object \n",
      " 4   DIM_TIME                5405 non-null   int64  \n",
      " 5   DIM_TIME_TYPE           5405 non-null   object \n",
      " 6   DIM_GEO_CODE_M49        5405 non-null   int64  \n",
      " 7   DIM_GEO_CODE_TYPE       5405 non-null   object \n",
      " 8   DIM_PUBLISH_STATE_CODE  5405 non-null   object \n",
      " 9   IND_NAME                5405 non-null   object \n",
      " 10  GEO_NAME_SHORT          5382 non-null   object \n",
      " 11  DIM_SEX                 5405 non-null   object \n",
      " 12  RATE_PER_CAPITA_N       5405 non-null   float64\n",
      " 13  RATE_PER_CAPITA_NL      5405 non-null   float64\n",
      " 14  RATE_PER_CAPITA_NU      5405 non-null   float64\n",
      "dtypes: float64(3), int64(2), object(10)\n",
      "memory usage: 633.5+ KB\n",
      "None\n",
      "\n",
      "Summary Statistics:\n",
      "          DIM_TIME  DIM_GEO_CODE_M49  RATE_PER_CAPITA_N  RATE_PER_CAPITA_NL  \\\n",
      "count  5405.000000       5405.000000        5405.000000         5405.000000   \n",
      "mean   2011.000000        401.897872           5.549957            4.494768   \n",
      "std       6.633863        280.064125           4.072395            3.581639   \n",
      "min    2000.000000          1.000000           0.000000            0.000000   \n",
      "25%    2005.000000        145.000000           2.038544            1.319205   \n",
      "50%    2011.000000        400.000000           4.773747            3.687850   \n",
      "75%    2017.000000        643.000000           8.699521            7.203463   \n",
      "max    2022.000000        958.000000          19.497715           16.902455   \n",
      "\n",
      "       RATE_PER_CAPITA_NU  \n",
      "count         5405.000000  \n",
      "mean             6.683038  \n",
      "std              4.569267  \n",
      "min              0.000000  \n",
      "25%              2.914592  \n",
      "50%              5.910297  \n",
      "75%             10.206276  \n",
      "max             22.251088  \n",
      "\n",
      "Missing Values Count:\n",
      "IND_ID                     0\n",
      "IND_CODE                   0\n",
      "IND_UUID                   0\n",
      "IND_PER_CODE               0\n",
      "DIM_TIME                   0\n",
      "DIM_TIME_TYPE              0\n",
      "DIM_GEO_CODE_M49           0\n",
      "DIM_GEO_CODE_TYPE          0\n",
      "DIM_PUBLISH_STATE_CODE     0\n",
      "IND_NAME                   0\n",
      "GEO_NAME_SHORT            23\n",
      "DIM_SEX                    0\n",
      "RATE_PER_CAPITA_N          0\n",
      "RATE_PER_CAPITA_NL         0\n",
      "RATE_PER_CAPITA_NU         0\n",
      "dtype: int64\n"
     ]
    }
   ],
   "source": [
    "print(\"Shape of the dataset:\", df.shape)\n",
    "print(\"\\nData Types and Missing Values:\")\n",
    "print(df.info())\n",
    "print(\"\\nSummary Statistics:\")\n",
    "print(df.describe())\n",
    "print(\"\\nMissing Values Count:\")\n",
    "print(df.isnull().sum())\n"
   ]
  },
  {
   "cell_type": "markdown",
   "id": "b4d94fc5",
   "metadata": {},
   "source": [
    "## Clean the Data"
   ]
  },
  {
   "cell_type": "code",
   "execution_count": 10,
   "id": "9dcaa9b6",
   "metadata": {},
   "outputs": [
    {
     "name": "stdout",
     "output_type": "stream",
     "text": [
      "   Year                    Country  AlcoholPerCapita\n",
      "0  2003                       Cuba          5.885221\n",
      "1  2003                     Cyprus          7.142592\n",
      "2  2003  Least developed countries          2.029877\n",
      "3  2003         Sub-Saharan Africa          3.860405\n",
      "4  2003                    Czechia         14.557763\n"
     ]
    }
   ],
   "source": [
    "import pandas as pd\n",
    "\n",
    "# Load your dataset\n",
    "df = pd.read_csv(\"alcohol.csv\")\n",
    "\n",
    "# Step 1: Keep only the relevant columns\n",
    "df_cleaned = df[['DIM_TIME', 'GEO_NAME_SHORT', 'RATE_PER_CAPITA_N']].copy()\n",
    "\n",
    "# Step 2: Drop rows with missing country names\n",
    "df_cleaned = df_cleaned.dropna(subset=['GEO_NAME_SHORT'])\n",
    "\n",
    "# Step 3: Rename columns for easier access\n",
    "df_cleaned.rename(columns={\n",
    "    'DIM_TIME': 'Year',\n",
    "    'GEO_NAME_SHORT': 'Country',\n",
    "    'RATE_PER_CAPITA_N': 'AlcoholPerCapita'\n",
    "}, inplace=True)\n",
    "\n",
    "# Optional: Preview the cleaned dataset\n",
    "print(df_cleaned.head())\n"
   ]
  },
  {
   "cell_type": "markdown",
   "id": "81183b54",
   "metadata": {},
   "source": [
    "## 📈 1. Global Average Alcohol Consumption Over Time"
   ]
  },
  {
   "cell_type": "code",
   "execution_count": 11,
   "id": "9f0ab7be",
   "metadata": {},
   "outputs": [
    {
     "data": {
      "image/png": "[encoded data removed]",
      "text/plain": [
       "<Figure size 1000x500 with 1 Axes>"
      ]
     },
     "metadata": {},
     "output_type": "display_data"
    }
   ],
   "source": [
    "import matplotlib.pyplot as plt\n",
    "import seaborn as sns\n",
    "\n",
    "sns.set(style=\"whitegrid\")\n",
    "\n",
    "# Global trend over years\n",
    "global_trend = df_cleaned.groupby(\"Year\")[\"AlcoholPerCapita\"].mean().reset_index()\n",
    "\n",
    "plt.figure(figsize=(10, 5))\n",
    "sns.lineplot(data=global_trend, x=\"Year\", y=\"AlcoholPerCapita\", marker=\"o\")\n",
    "plt.title(\"Global Average Alcohol Consumption Over Years\")\n",
    "plt.ylabel(\"Liters per Capita\")\n",
    "plt.xlabel(\"Year\")\n",
    "plt.xticks(rotation=45)\n",
    "plt.tight_layout()\n",
    "plt.show()\n"
   ]
  },
  {
   "cell_type": "markdown",
   "id": "d831e9ef",
   "metadata": {},
   "source": [
    "## Export the Cleaned Dataset"
   ]
  },
  {
   "cell_type": "code",
   "execution_count": 12,
   "id": "c538637f",
   "metadata": {},
   "outputs": [
    {
     "name": "stdout",
     "output_type": "stream",
     "text": [
      "✅ Cleaned data saved as 'cleaned_alcohol_consumption.csv'\n"
     ]
    }
   ],
   "source": [
    "# Save the cleaned dataset to a new CSV file\n",
    "df_cleaned.to_csv(\"cleaned_alcohol_consumption.csv\", index=False)\n",
    "\n",
    "print(\"✅ Cleaned data saved as 'cleaned_alcohol_consumption.csv'\")\n"
   ]
  },
  {
   "cell_type": "code",
   "execution_count": 13,
   "id": "b44dc6d1",
   "metadata": {},
   "outputs": [
    {
     "name": "stdout",
     "output_type": "stream",
     "text": [
      "              Year  AlcoholPerCapita\n",
      "count  5382.000000       5382.000000\n",
      "mean   2011.000000          5.527157\n",
      "std       6.633866          4.065980\n",
      "min    2000.000000          0.000000\n",
      "25%    2005.000000          2.030171\n",
      "50%    2011.000000          4.742806\n",
      "75%    2017.000000          8.605679\n",
      "max    2022.000000         19.497715\n"
     ]
    }
   ],
   "source": [
    "print(df_cleaned.describe())\n"
   ]
  }
 ],
 "metadata": {
  "kernelspec": {
   "display_name": "Python 3",
   "language": "python",
   "name": "python3"
  },
  "language_info": {
   "codemirror_mode": {
    "name": "ipython",
    "version": 3
   },
   "file_extension": ".py",
   "mimetype": "text/x-python",
   "name": "python",
   "nbconvert_exporter": "python",
   "pygments_lexer": "ipython3",
   "version": "3.13.3"
  }
 },
 "nbformat": 4,
 "nbformat_minor": 5
}
